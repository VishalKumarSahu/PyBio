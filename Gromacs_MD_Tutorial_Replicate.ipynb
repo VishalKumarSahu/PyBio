{
  "nbformat": 4,
  "nbformat_minor": 0,
  "metadata": {
    "colab": {
      "name": "Gromacs-MD Tutorial Replicate",
      "provenance": [],
      "collapsed_sections": [],
      "authorship_tag": "ABX9TyN8rXHHc30dex8DTXC+tQhU",
      "include_colab_link": true
    },
    "kernelspec": {
      "name": "python3",
      "display_name": "Python 3"
    },
    "widgets": {
      "application/vnd.jupyter.widget-state+json": {
        "a08886333d4f4705aa10ee96e06b561d": {
          "model_module": "nglview-js-widgets",
          "model_name": "ColormakerRegistryModel",
          "state": {
            "_view_name": "ColormakerRegistryView",
            "_dom_classes": [],
            "_model_name": "ColormakerRegistryModel",
            "_msg_q": [],
            "_view_module": "nglview-js-widgets",
            "_model_module_version": "2.7.7",
            "_msg_ar": [],
            "_ready": false,
            "_view_module_version": "2.7.7",
            "_view_count": null,
            "_model_module": "nglview-js-widgets",
            "layout": "IPY_MODEL_5aa7bf0480a440b286db8293926dccab"
          }
        }
      }
    }
  },
  "cells": [
    {
      "cell_type": "markdown",
      "metadata": {
        "id": "view-in-github",
        "colab_type": "text"
      },
      "source": [
        "<a href=\"https://colab.research.google.com/github/VishalKumarSahu/PyBio/blob/main/Gromacs_MD_Tutorial_Replicate.ipynb\" target=\"_parent\"><img src=\"https://colab.research.google.com/assets/colab-badge.svg\" alt=\"Open In Colab\"/></a>"
      ]
    },
    {
      "cell_type": "markdown",
      "metadata": {
        "id": "do9u1Oe0qs1Y"
      },
      "source": [
        "## Basic Required Libraries\r\n",
        "\r\n",
        "* GrowmacsWrapper for gromacs\r\n",
        "* pytraj for trajectory analysis and plotting\r\n",
        "* nglview for viewing"
      ]
    },
    {
      "cell_type": "code",
      "metadata": {
        "id": "JsJYxO37Cb-f"
      },
      "source": [
        "# Install gromacs on Linux\r\n",
        "!apt install gromacs \r\n",
        "\r\n",
        "# Install basic required libraries\r\n",
        "\r\n",
        "!pip install pytraj nglview\r\n",
        "!pip install mdanalysis\r\n"
      ],
      "execution_count": null,
      "outputs": []
    },
    {
      "cell_type": "markdown",
      "metadata": {
        "id": "IznZWtGHrhUo"
      },
      "source": [
        "## Create Imports\r\n"
      ]
    },
    {
      "cell_type": "code",
      "metadata": {
        "id": "XfWLLLokCjAS",
        "colab": {
          "base_uri": "https://localhost:8080/",
          "height": 17,
          "referenced_widgets": [
            "a08886333d4f4705aa10ee96e06b561d"
          ]
        },
        "outputId": "5b9462c6-0e17-4dbe-b5ef-047b9734c82c"
      },
      "source": [
        "# Install additional libraries\r\n",
        "\r\n",
        "%matplotlib inline\r\n",
        "import matplotlib as mpl\r\n",
        "import matplotlib.pyplot as plt\r\n",
        "import numpy as np\r\n",
        "import urllib # Fetch online files\r\n",
        "\r\n",
        "# Gromacs Related Imports\r\n",
        "\r\n",
        "import pytraj as pt\r\n",
        "import nglview as nv\r\n",
        "\r\n",
        "\r\n",
        "\r\n",
        "\r\n",
        "\r\n"
      ],
      "execution_count": 4,
      "outputs": [
        {
          "output_type": "display_data",
          "data": {
            "application/vnd.jupyter.widget-view+json": {
              "model_id": "a08886333d4f4705aa10ee96e06b561d",
              "version_minor": 0,
              "version_major": 2
            },
            "text/plain": [
              ""
            ]
          },
          "metadata": {
            "tags": []
          }
        }
      ]
    },
    {
      "cell_type": "markdown",
      "metadata": {
        "id": "GX2uEcukrq2-"
      },
      "source": [
        "## Fetching files"
      ]
    },
    {
      "cell_type": "code",
      "metadata": {
        "colab": {
          "base_uri": "https://localhost:8080/"
        },
        "id": "jotwbCndtdPt",
        "outputId": "f5407309-b048-4e63-ffb6-15f5357ae02f"
      },
      "source": [
        "\r\n",
        "print(\"Import a Protein from rcsb.org\")\r\n",
        "\r\n",
        "pdb_url = 'http://files.rcsb.org/download/'\r\n",
        "protein_file_name = '1aki.pdb'\r\n",
        "protein_url = pdb_url + protein_file_name\r\n",
        "print(\"Downloading from \" + protein_url)\r\n",
        "\r\n",
        "urllib.request.urlretrieve(protein_url, protein_file_name)\r\n",
        "\r\n",
        "\r\n",
        "\r\n",
        "# See few lines of a file\r\n",
        "print(\"======START=======\")\r\n",
        "# !tail 1aki_clean.pdb\r\n",
        "print(\"======END=======\")\r\n"
      ],
      "execution_count": 32,
      "outputs": [
        {
          "output_type": "stream",
          "text": [
            "Import First Protein\n",
            "Downloading from http://files.rcsb.org/download/1aki.pdb\n",
            "======START=======\n",
            "CONECT   48  981                                                                \n",
            "CONECT  238  889                                                                \n",
            "CONECT  513  630                                                                \n",
            "CONECT  601  724                                                                \n",
            "CONECT  630  513                                                                \n",
            "CONECT  724  601                                                                \n",
            "CONECT  889  238                                                                \n",
            "CONECT  981   48                                                                \n",
            "MASTER      290    0    0    8    2    0    0    6 1079    1    8   10          \n",
            "END                                                                             \n",
            "======END=======\n"
          ],
          "name": "stdout"
        }
      ]
    },
    {
      "cell_type": "code",
      "metadata": {
        "id": "y7Bl5TzwnFWB"
      },
      "source": [
        "print('processing files')\r\n",
        "\r\n",
        "# Remove Water Molecules from fetched file\r\n",
        "!grep -v HOH 1aki.pdb > 1aki_clean.pdb"
      ],
      "execution_count": null,
      "outputs": []
    },
    {
      "cell_type": "code",
      "metadata": {
        "id": "_wX-qyxPvqnf"
      },
      "source": [
        "!gmx pdb2gmx -f 1aki_clean.pdb -o 1aki_clean.gro -water spce -ff amber99sb\r\n"
      ],
      "execution_count": null,
      "outputs": []
    },
    {
      "cell_type": "markdown",
      "metadata": {
        "id": "ZIYOJYpIWK6_"
      },
      "source": [
        ""
      ]
    }
  ]
}